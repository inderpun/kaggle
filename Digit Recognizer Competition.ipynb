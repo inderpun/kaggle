{
 "cells": [
  {
   "cell_type": "code",
   "execution_count": 1,
   "id": "2a276331",
   "metadata": {
    "_cell_guid": "b1076dfc-b9ad-4769-8c92-a6c4dae69d19",
    "_uuid": "8f2839f25d086af736a60e9eeb907d3b93b6e0e5",
    "execution": {
     "iopub.execute_input": "2023-10-28T23:18:42.802565Z",
     "iopub.status.busy": "2023-10-28T23:18:42.801734Z",
     "iopub.status.idle": "2023-10-28T23:18:43.475470Z",
     "shell.execute_reply": "2023-10-28T23:18:43.474465Z"
    },
    "papermill": {
     "duration": 0.684283,
     "end_time": "2023-10-28T23:18:43.477720",
     "exception": false,
     "start_time": "2023-10-28T23:18:42.793437",
     "status": "completed"
    },
    "tags": []
   },
   "outputs": [
    {
     "name": "stdout",
     "output_type": "stream",
     "text": [
      "/kaggle/input/digit-recognizer/sample_submission.csv\n",
      "/kaggle/input/digit-recognizer/train.csv\n",
      "/kaggle/input/digit-recognizer/test.csv\n"
     ]
    }
   ],
   "source": [
    "# This Python 3 environment comes with many helpful analytics libraries installed\n",
    "# It is defined by the kaggle/python Docker image: https://github.com/kaggle/docker-python\n",
    "# For example, here's several helpful packages to load\n",
    "\n",
    "import numpy as np # linear algebra\n",
    "import pandas as pd # data processing, CSV file I/O (e.g. pd.read_csv)\n",
    "\n",
    "# Input data files are available in the read-only \"../input/\" directory\n",
    "# For example, running this (by clicking run or pressing Shift+Enter) will list all files under the input directory\n",
    "\n",
    "import os\n",
    "for dirname, _, filenames in os.walk('/kaggle/input'):\n",
    "    for filename in filenames:\n",
    "        print(os.path.join(dirname, filename))\n",
    "\n",
    "# You can write up to 20GB to the current directory (/kaggle/working/) that gets preserved as output when you create a version using \"Save & Run All\" \n",
    "# You can also write temporary files to /kaggle/temp/, but they won't be saved outside of the current session"
   ]
  },
  {
   "cell_type": "code",
   "execution_count": 2,
   "id": "cc0cce85",
   "metadata": {
    "execution": {
     "iopub.execute_input": "2023-10-28T23:18:43.491590Z",
     "iopub.status.busy": "2023-10-28T23:18:43.491201Z",
     "iopub.status.idle": "2023-10-28T23:18:47.190055Z",
     "shell.execute_reply": "2023-10-28T23:18:47.189118Z"
    },
    "papermill": {
     "duration": 3.708298,
     "end_time": "2023-10-28T23:18:47.192384",
     "exception": false,
     "start_time": "2023-10-28T23:18:43.484086",
     "status": "completed"
    },
    "tags": []
   },
   "outputs": [],
   "source": [
    "# Importing libraries\n",
    "import torch\n",
    "from torch import nn\n",
    "\n",
    "from torch.utils.data import Dataset, DataLoader\n",
    "\n",
    "from torchvision import transforms\n",
    "import matplotlib.pyplot as plt\n",
    "\n",
    "import torch.nn.functional as F"
   ]
  },
  {
   "cell_type": "code",
   "execution_count": 3,
   "id": "1d2e4772",
   "metadata": {
    "execution": {
     "iopub.execute_input": "2023-10-28T23:18:47.206956Z",
     "iopub.status.busy": "2023-10-28T23:18:47.206524Z",
     "iopub.status.idle": "2023-10-28T23:18:47.279746Z",
     "shell.execute_reply": "2023-10-28T23:18:47.278735Z"
    },
    "papermill": {
     "duration": 0.082372,
     "end_time": "2023-10-28T23:18:47.281728",
     "exception": false,
     "start_time": "2023-10-28T23:18:47.199356",
     "status": "completed"
    },
    "tags": []
   },
   "outputs": [],
   "source": [
    "device = 'cuda' if torch.cuda.is_available() else 'cpu'"
   ]
  },
  {
   "cell_type": "code",
   "execution_count": 4,
   "id": "2fdfbd51",
   "metadata": {
    "execution": {
     "iopub.execute_input": "2023-10-28T23:18:47.295535Z",
     "iopub.status.busy": "2023-10-28T23:18:47.295225Z",
     "iopub.status.idle": "2023-10-28T23:18:47.303243Z",
     "shell.execute_reply": "2023-10-28T23:18:47.302491Z"
    },
    "papermill": {
     "duration": 0.016985,
     "end_time": "2023-10-28T23:18:47.305144",
     "exception": false,
     "start_time": "2023-10-28T23:18:47.288159",
     "status": "completed"
    },
    "tags": []
   },
   "outputs": [],
   "source": [
    "# Create a custom Dataset\n",
    "\n",
    "class CustomCSVDataset(Dataset):\n",
    "    def __init__(self, file_path, train=True, transform=None):\n",
    "        self.data = pd.read_csv(file_path)\n",
    "        self.train = train\n",
    "        self.transform = transform\n",
    "        \n",
    "    def __len__(self):\n",
    "        return len(self.data)\n",
    "    \n",
    "    def __getitem__(self, idx):\n",
    "        if torch.is_tensor(idx):\n",
    "            idx = idx.tolist()\n",
    "            \n",
    "        if self.train:\n",
    "            label = self.data.iloc[idx,0]\n",
    "            data = self.data.iloc[idx, 1:].values.astype('float32')\n",
    "            sample = {'label': label, 'data': data}\n",
    "            \n",
    "        else:\n",
    "            data = self.data.iloc[idx].values.astype('float32')\n",
    "            sample = {'data': data}\n",
    "        \n",
    "        if self.transform:\n",
    "            sample = self.transform(sample)\n",
    "            \n",
    "        return sample"
   ]
  },
  {
   "cell_type": "code",
   "execution_count": 5,
   "id": "f695304e",
   "metadata": {
    "execution": {
     "iopub.execute_input": "2023-10-28T23:18:47.318861Z",
     "iopub.status.busy": "2023-10-28T23:18:47.318575Z",
     "iopub.status.idle": "2023-10-28T23:18:47.324785Z",
     "shell.execute_reply": "2023-10-28T23:18:47.323891Z"
    },
    "papermill": {
     "duration": 0.015346,
     "end_time": "2023-10-28T23:18:47.326785",
     "exception": false,
     "start_time": "2023-10-28T23:18:47.311439",
     "status": "completed"
    },
    "tags": []
   },
   "outputs": [],
   "source": [
    "# Custom transformations\n",
    "\n",
    "def custom_transform(sample):\n",
    "    if 'label' in sample:\n",
    "        label = sample['label']\n",
    "        data = sample['data']\n",
    "    else:\n",
    "        data = sample['data']\n",
    "    \n",
    "    if len(data.shape) == 1:\n",
    "        data = data.reshape(28,28)\n",
    "        \n",
    "    transform = transforms.Compose([\n",
    "        transforms.ToTensor(),\n",
    "        transforms.Normalize(mean=0.5, std=0.5)\n",
    "    ])\n",
    "    \n",
    "    data_normalized = transform(data)\n",
    "    \n",
    "    if 'label' in sample:\n",
    "        return {'label': label, 'data': data_normalized}\n",
    "    else:\n",
    "        return {'data': data_normalized}"
   ]
  },
  {
   "cell_type": "code",
   "execution_count": 6,
   "id": "002995b2",
   "metadata": {
    "execution": {
     "iopub.execute_input": "2023-10-28T23:18:47.340155Z",
     "iopub.status.busy": "2023-10-28T23:18:47.339879Z",
     "iopub.status.idle": "2023-10-28T23:18:47.343599Z",
     "shell.execute_reply": "2023-10-28T23:18:47.342817Z"
    },
    "papermill": {
     "duration": 0.01246,
     "end_time": "2023-10-28T23:18:47.345509",
     "exception": false,
     "start_time": "2023-10-28T23:18:47.333049",
     "status": "completed"
    },
    "tags": []
   },
   "outputs": [],
   "source": [
    "train_file_path = '/kaggle/input/digit-recognizer/train.csv'\n",
    "test_file_path = '/kaggle/input/digit-recognizer/test.csv'"
   ]
  },
  {
   "cell_type": "code",
   "execution_count": 7,
   "id": "790edc72",
   "metadata": {
    "execution": {
     "iopub.execute_input": "2023-10-28T23:18:47.359775Z",
     "iopub.status.busy": "2023-10-28T23:18:47.359074Z",
     "iopub.status.idle": "2023-10-28T23:18:53.034443Z",
     "shell.execute_reply": "2023-10-28T23:18:53.033367Z"
    },
    "papermill": {
     "duration": 5.68572,
     "end_time": "2023-10-28T23:18:53.037279",
     "exception": false,
     "start_time": "2023-10-28T23:18:47.351559",
     "status": "completed"
    },
    "tags": []
   },
   "outputs": [],
   "source": [
    "full_train_ds = CustomCSVDataset(train_file_path, train=True, transform=custom_transform)\n",
    "\n",
    "# Splitting into training and validation sets\n",
    "train_size = int(0.8* len(full_train_ds))\n",
    "val_size = len(full_train_ds) - train_size\n",
    "\n",
    "train_ds, val_ds = torch.utils.data.random_split(full_train_ds, [train_size, val_size])\n",
    "\n",
    "test_ds = CustomCSVDataset(test_file_path, train=False, transform=custom_transform)"
   ]
  },
  {
   "cell_type": "code",
   "execution_count": 8,
   "id": "335ccec6",
   "metadata": {
    "execution": {
     "iopub.execute_input": "2023-10-28T23:18:53.051366Z",
     "iopub.status.busy": "2023-10-28T23:18:53.051077Z",
     "iopub.status.idle": "2023-10-28T23:18:53.056343Z",
     "shell.execute_reply": "2023-10-28T23:18:53.055347Z"
    },
    "papermill": {
     "duration": 0.014335,
     "end_time": "2023-10-28T23:18:53.058277",
     "exception": false,
     "start_time": "2023-10-28T23:18:53.043942",
     "status": "completed"
    },
    "tags": []
   },
   "outputs": [],
   "source": [
    "# Creating a DataLoader\n",
    "\n",
    "BATCH_SIZE = 32\n",
    "train_dl = DataLoader(train_ds, shuffle=True, batch_size=BATCH_SIZE)\n",
    "val_dl = DataLoader(val_ds, shuffle=True, batch_size=BATCH_SIZE)\n",
    "test_dl = DataLoader(test_ds, shuffle=False, batch_size=BATCH_SIZE)"
   ]
  },
  {
   "cell_type": "code",
   "execution_count": 9,
   "id": "c51d5f9c",
   "metadata": {
    "execution": {
     "iopub.execute_input": "2023-10-28T23:18:53.071542Z",
     "iopub.status.busy": "2023-10-28T23:18:53.071296Z",
     "iopub.status.idle": "2023-10-28T23:18:53.079134Z",
     "shell.execute_reply": "2023-10-28T23:18:53.078217Z"
    },
    "papermill": {
     "duration": 0.016619,
     "end_time": "2023-10-28T23:18:53.081029",
     "exception": false,
     "start_time": "2023-10-28T23:18:53.064410",
     "status": "completed"
    },
    "tags": []
   },
   "outputs": [],
   "source": [
    "# Neural Network\n",
    "\n",
    "class dr_custom_nn(nn.Module):\n",
    "    def __init__(self, input_shape, output_shape):\n",
    "        super().__init__()\n",
    "        self.conv1 = nn.Conv2d(1, 16, kernel_size=3, stride=1, padding=1)\n",
    "        self.pool = nn.MaxPool2d(kernel_size=2, stride=2, padding=0)\n",
    "        self.conv2 = nn.Conv2d(16, 32, kernel_size=3, stride=1, padding=1)\n",
    "        self.fc1 = nn.Linear(32 *7 *7, 128)\n",
    "        self.fc2 = nn.Linear(128, output_shape)\n",
    "\n",
    "    def forward(self, x):\n",
    "        x = self.pool(F.relu(self.conv1(x)))\n",
    "        x = self.pool(F.relu(self.conv2(x)))\n",
    "        x = x.view(-1, 32*7*7)\n",
    "        x = F.relu(self.fc1(x))\n",
    "        x = self.fc2(x)\n",
    "        return x "
   ]
  },
  {
   "cell_type": "code",
   "execution_count": 10,
   "id": "7aebad56",
   "metadata": {
    "execution": {
     "iopub.execute_input": "2023-10-28T23:18:53.094844Z",
     "iopub.status.busy": "2023-10-28T23:18:53.094504Z",
     "iopub.status.idle": "2023-10-28T23:18:55.984711Z",
     "shell.execute_reply": "2023-10-28T23:18:55.983717Z"
    },
    "papermill": {
     "duration": 2.900369,
     "end_time": "2023-10-28T23:18:55.987584",
     "exception": false,
     "start_time": "2023-10-28T23:18:53.087215",
     "status": "completed"
    },
    "tags": []
   },
   "outputs": [],
   "source": [
    "LEARNING_RATE = 1e-3\n",
    "input_shape = 28*28\n",
    "output_shape = 10\n",
    "\n",
    "custom_nn = dr_custom_nn(input_shape, output_shape).to(device)\n",
    "\n",
    "# Loss function and Optimizer\n",
    "loss_fn = nn.CrossEntropyLoss()\n",
    "optimizer = torch.optim.Adam(params=custom_nn.parameters(), lr = LEARNING_RATE)"
   ]
  },
  {
   "cell_type": "code",
   "execution_count": 11,
   "id": "1e9cd67f",
   "metadata": {
    "execution": {
     "iopub.execute_input": "2023-10-28T23:18:56.001555Z",
     "iopub.status.busy": "2023-10-28T23:18:56.001258Z",
     "iopub.status.idle": "2023-10-28T23:18:56.008366Z",
     "shell.execute_reply": "2023-10-28T23:18:56.007509Z"
    },
    "papermill": {
     "duration": 0.016341,
     "end_time": "2023-10-28T23:18:56.010364",
     "exception": false,
     "start_time": "2023-10-28T23:18:55.994023",
     "status": "completed"
    },
    "tags": []
   },
   "outputs": [],
   "source": [
    "# Training step\n",
    "\n",
    "def train_step(model, input_dl, loss_fn, optimizer):\n",
    "    model.train()\n",
    "    train_loss, train_accuracy = 0,0\n",
    "\n",
    "    for batch, data in enumerate(input_dl):\n",
    "        X = data['data'].to(device)\n",
    "        y = data['label'].to(device)\n",
    "        preds = model(X)\n",
    "        loss = loss_fn(preds, y)\n",
    "        train_loss += loss.item()\n",
    "\n",
    "        preds_classes = torch.argmax(torch.softmax(preds, dim=1), dim=1)\n",
    "        train_accuracy += (preds_classes == y).sum().item()/len(preds)\n",
    "\n",
    "        optimizer.zero_grad()\n",
    "        loss.backward()\n",
    "        optimizer.step()\n",
    "    return train_loss/len(input_dl), (train_accuracy/len(input_dl))*100"
   ]
  },
  {
   "cell_type": "code",
   "execution_count": 12,
   "id": "9f8e49e5",
   "metadata": {
    "execution": {
     "iopub.execute_input": "2023-10-28T23:18:56.023488Z",
     "iopub.status.busy": "2023-10-28T23:18:56.023242Z",
     "iopub.status.idle": "2023-10-28T23:18:56.029833Z",
     "shell.execute_reply": "2023-10-28T23:18:56.028871Z"
    },
    "papermill": {
     "duration": 0.015371,
     "end_time": "2023-10-28T23:18:56.031742",
     "exception": false,
     "start_time": "2023-10-28T23:18:56.016371",
     "status": "completed"
    },
    "tags": []
   },
   "outputs": [],
   "source": [
    "# Validation step\n",
    "\n",
    "def val_step(model, input_dl, loss_fn):\n",
    "    model.eval()\n",
    "    test_loss, test_accuracy = 0, 0\n",
    "    \n",
    "    torch.inference_mode()\n",
    "    for data in input_dl:\n",
    "        X = data['data'].to(device)\n",
    "        y = data['label'].to(device)\n",
    "        preds = model(X)\n",
    "        loss = loss_fn(preds, y)\n",
    "        test_loss += loss.item()\n",
    "\n",
    "        preds_classes = torch.argmax(torch.softmax(preds, dim=1), dim=1)\n",
    "        test_accuracy += (preds_classes == y).sum().item()/len(preds)\n",
    "\n",
    "    return test_loss/len(input_dl), (test_accuracy/len(input_dl))*100"
   ]
  },
  {
   "cell_type": "code",
   "execution_count": 13,
   "id": "2753104b",
   "metadata": {
    "execution": {
     "iopub.execute_input": "2023-10-28T23:18:56.044672Z",
     "iopub.status.busy": "2023-10-28T23:18:56.044435Z",
     "iopub.status.idle": "2023-10-28T23:18:56.050617Z",
     "shell.execute_reply": "2023-10-28T23:18:56.049806Z"
    },
    "papermill": {
     "duration": 0.014658,
     "end_time": "2023-10-28T23:18:56.052465",
     "exception": false,
     "start_time": "2023-10-28T23:18:56.037807",
     "status": "completed"
    },
    "tags": []
   },
   "outputs": [],
   "source": [
    "# Testing step\n",
    "\n",
    "def test_step(model, input_dl, loss_fn):\n",
    "    model.eval()\n",
    "    test_loss, test_accuracy = 0, 0\n",
    "    \n",
    "    torch.inference_mode()\n",
    "    for data in input_dl:\n",
    "        X = data['data'].to(device)\n",
    "        preds = model(X)\n",
    "        loss = loss_fn(preds, y)\n",
    "        test_loss += loss.item()\n",
    "\n",
    "        preds_classes = torch.argmax(torch.softmax(preds, dim=1), dim=1)\n",
    "        test_accuracy += (preds_classes == y).sum().item()/len(preds)\n",
    "\n",
    "    return test_loss/len(input_dl), (test_accuracy/len(input_dl))*100"
   ]
  },
  {
   "cell_type": "code",
   "execution_count": 14,
   "id": "87395e71",
   "metadata": {
    "execution": {
     "iopub.execute_input": "2023-10-28T23:18:56.065556Z",
     "iopub.status.busy": "2023-10-28T23:18:56.065297Z",
     "iopub.status.idle": "2023-10-28T23:25:59.772949Z",
     "shell.execute_reply": "2023-10-28T23:25:59.771971Z"
    },
    "papermill": {
     "duration": 423.716689,
     "end_time": "2023-10-28T23:25:59.775237",
     "exception": false,
     "start_time": "2023-10-28T23:18:56.058548",
     "status": "completed"
    },
    "tags": []
   },
   "outputs": [
    {
     "name": "stdout",
     "output_type": "stream",
     "text": [
      "EPOCH:1 | Training Loss:0.2813725951421518 | Training Accuracy:94.21428571428572 % | Test Loss:0.08586212587803992 | Test Accuracy:97.46910646387833 %\n",
      "EPOCH:2 | Training Loss:0.06330415191172506 | Training Accuracy:98.06845238095238 % | Test Loss:0.08281213874663786 | Test Accuracy:97.92062737642586 %\n",
      "EPOCH:3 | Training Loss:0.050875425205997006 | Training Accuracy:98.41071428571428 % | Test Loss:0.08623323474647504 | Test Accuracy:97.81368821292776 %\n",
      "EPOCH:4 | Training Loss:0.04577956286533706 | Training Accuracy:98.64583333333333 % | Test Loss:0.06879230400245917 | Test Accuracy:98.32461977186313 %\n",
      "EPOCH:5 | Training Loss:0.03882008642230132 | Training Accuracy:98.83928571428572 % | Test Loss:0.08490697243417451 | Test Accuracy:97.77804182509506 %\n",
      "EPOCH:6 | Training Loss:0.03841490919615656 | Training Accuracy:98.80357142857143 % | Test Loss:0.11130913530492077 | Test Accuracy:97.37404942965779 %\n",
      "EPOCH:7 | Training Loss:0.02948798040591551 | Training Accuracy:99.13988095238095 % | Test Loss:0.1149069187279534 | Test Accuracy:97.83745247148289 %\n",
      "EPOCH:8 | Training Loss:0.03151383027598126 | Training Accuracy:99.03869047619047 % | Test Loss:0.09814296779484137 | Test Accuracy:98.28897338403041 %\n",
      "EPOCH:9 | Training Loss:0.02772573843197751 | Training Accuracy:99.23214285714286 % | Test Loss:0.09962470398824161 | Test Accuracy:98.12262357414448 %\n",
      "EPOCH:10 | Training Loss:0.025894885383733027 | Training Accuracy:99.24107142857143 % | Test Loss:0.1328645098089488 | Test Accuracy:97.75427756653993 %\n",
      "EPOCH:11 | Training Loss:0.02890884419234787 | Training Accuracy:99.26190476190476 % | Test Loss:0.11392562734826313 | Test Accuracy:97.92062737642586 %\n",
      "EPOCH:12 | Training Loss:0.020857624882791047 | Training Accuracy:99.42857142857143 % | Test Loss:0.12486583293171226 | Test Accuracy:98.20579847908745 %\n",
      "EPOCH:13 | Training Loss:0.02024951697134729 | Training Accuracy:99.48511904761905 % | Test Loss:0.13031245750554554 | Test Accuracy:98.06321292775665 %\n",
      "EPOCH:14 | Training Loss:0.022643158587131264 | Training Accuracy:99.38988095238095 % | Test Loss:0.1588751766702055 | Test Accuracy:97.63545627376425 %\n",
      "EPOCH:15 | Training Loss:0.018054632778710198 | Training Accuracy:99.51488095238096 % | Test Loss:0.1307306951429533 | Test Accuracy:98.11074144486692 %\n",
      "EPOCH:16 | Training Loss:0.02071348255259873 | Training Accuracy:99.49404761904762 % | Test Loss:0.14442795860483268 | Test Accuracy:98.09885931558935 %\n",
      "EPOCH:17 | Training Loss:0.018990006220875513 | Training Accuracy:99.55357142857143 % | Test Loss:0.13081857396806626 | Test Accuracy:98.31273764258555 %\n",
      "EPOCH:18 | Training Loss:0.019391201189114027 | Training Accuracy:99.52380952380952 % | Test Loss:0.20607927529497833 | Test Accuracy:97.74239543726236 %\n",
      "EPOCH:19 | Training Loss:0.018013685431996704 | Training Accuracy:99.58928571428571 % | Test Loss:0.1766151525856478 | Test Accuracy:97.92062737642586 %\n",
      "EPOCH:20 | Training Loss:0.020256026276102783 | Training Accuracy:99.55952380952381 % | Test Loss:0.20574940773965988 | Test Accuracy:98.01568441064639 %\n",
      "EPOCH:21 | Training Loss:0.016479589773382472 | Training Accuracy:99.68452380952381 % | Test Loss:0.14503608856966085 | Test Accuracy:98.12262357414448 %\n",
      "EPOCH:22 | Training Loss:0.01962424948903702 | Training Accuracy:99.54464285714286 % | Test Loss:0.21693157344679825 | Test Accuracy:98.06321292775665 %\n",
      "EPOCH:23 | Training Loss:0.017484970776696775 | Training Accuracy:99.64880952380952 % | Test Loss:0.20791211246779576 | Test Accuracy:98.20579847908745 %\n",
      "EPOCH:24 | Training Loss:0.013652583881740649 | Training Accuracy:99.72321428571429 % | Test Loss:0.23413508927872181 | Test Accuracy:97.71863117870723 %\n",
      "EPOCH:25 | Training Loss:0.02135852022041017 | Training Accuracy:99.56547619047619 % | Test Loss:0.23984948683053778 | Test Accuracy:98.08697718631178 %\n"
     ]
    }
   ],
   "source": [
    "EPOCHS = 25\n",
    "\n",
    "total_train_loss = []\n",
    "total_train_acc = []\n",
    "total_val_loss = []\n",
    "total_val_acc = []\n",
    "\n",
    "for epoch in range(EPOCHS):\n",
    "    train_loss, train_acc = train_step(custom_nn, train_dl, loss_fn, optimizer)\n",
    "    total_train_loss.append(train_loss)\n",
    "    total_train_acc.append(train_acc)\n",
    "    val_loss, val_acc = val_step(custom_nn, val_dl, loss_fn)\n",
    "    total_val_loss.append(val_loss)\n",
    "    total_val_acc.append(val_acc)\n",
    "    print(f'EPOCH:{epoch+1} | Training Loss:{train_loss} | Training Accuracy:{train_acc} % | Test Loss:{val_loss} | Test Accuracy:{val_acc} %')"
   ]
  },
  {
   "cell_type": "code",
   "execution_count": 15,
   "id": "56dbf93d",
   "metadata": {
    "execution": {
     "iopub.execute_input": "2023-10-28T23:25:59.793303Z",
     "iopub.status.busy": "2023-10-28T23:25:59.793017Z",
     "iopub.status.idle": "2023-10-28T23:25:59.797750Z",
     "shell.execute_reply": "2023-10-28T23:25:59.796865Z"
    },
    "papermill": {
     "duration": 0.016006,
     "end_time": "2023-10-28T23:25:59.799782",
     "exception": false,
     "start_time": "2023-10-28T23:25:59.783776",
     "status": "completed"
    },
    "tags": []
   },
   "outputs": [],
   "source": [
    "# Plot loss curve\n",
    "\n",
    "def plot_loss_accuracy(epochs, loss, accuracy, color_map):\n",
    "    plt.plot(range(epochs), loss, c=color_map)"
   ]
  },
  {
   "cell_type": "code",
   "execution_count": 16,
   "id": "1ad900ec",
   "metadata": {
    "execution": {
     "iopub.execute_input": "2023-10-28T23:25:59.817127Z",
     "iopub.status.busy": "2023-10-28T23:25:59.816708Z",
     "iopub.status.idle": "2023-10-28T23:26:00.086384Z",
     "shell.execute_reply": "2023-10-28T23:26:00.085434Z"
    },
    "papermill": {
     "duration": 0.280801,
     "end_time": "2023-10-28T23:26:00.088559",
     "exception": false,
     "start_time": "2023-10-28T23:25:59.807758",
     "status": "completed"
    },
    "tags": []
   },
   "outputs": [
    {
     "data": {
      "image/png": "[encoded data removed]",
      "text/plain": [
       "<Figure size 640x480 with 1 Axes>"
      ]
     },
     "metadata": {},
     "output_type": "display_data"
    }
   ],
   "source": [
    "plot_loss_accuracy(EPOCHS, total_train_loss, total_train_acc, color_map='b')\n",
    "plot_loss_accuracy(EPOCHS, total_val_loss, total_val_acc, color_map='r')"
   ]
  },
  {
   "cell_type": "code",
   "execution_count": 17,
   "id": "bf143d66",
   "metadata": {
    "execution": {
     "iopub.execute_input": "2023-10-28T23:26:00.106749Z",
     "iopub.status.busy": "2023-10-28T23:26:00.106445Z",
     "iopub.status.idle": "2023-10-28T23:26:05.733016Z",
     "shell.execute_reply": "2023-10-28T23:26:05.732210Z"
    },
    "papermill": {
     "duration": 5.638303,
     "end_time": "2023-10-28T23:26:05.735304",
     "exception": false,
     "start_time": "2023-10-28T23:26:00.097001",
     "status": "completed"
    },
    "tags": []
   },
   "outputs": [],
   "source": [
    "# Sample Submission\n",
    "\n",
    "all_predictions = []\n",
    "\n",
    "custom_nn.eval()\n",
    "with torch.inference_mode():\n",
    "    for data in test_dl:\n",
    "        inputs = data['data'].to(device)\n",
    "        outputs = custom_nn(inputs)\n",
    "        _, predicted = torch.max(outputs.data,1)\n",
    "        all_predictions.extend(predicted.tolist())"
   ]
  },
  {
   "cell_type": "code",
   "execution_count": 18,
   "id": "94ab29cd",
   "metadata": {
    "execution": {
     "iopub.execute_input": "2023-10-28T23:26:05.753676Z",
     "iopub.status.busy": "2023-10-28T23:26:05.753362Z",
     "iopub.status.idle": "2023-10-28T23:26:05.759667Z",
     "shell.execute_reply": "2023-10-28T23:26:05.758825Z"
    },
    "papermill": {
     "duration": 0.017679,
     "end_time": "2023-10-28T23:26:05.761758",
     "exception": false,
     "start_time": "2023-10-28T23:26:05.744079",
     "status": "completed"
    },
    "tags": []
   },
   "outputs": [
    {
     "data": {
      "text/plain": [
       "[2, 0, 9, 9, 3]"
      ]
     },
     "execution_count": 18,
     "metadata": {},
     "output_type": "execute_result"
    }
   ],
   "source": [
    "all_predictions[0:5]"
   ]
  },
  {
   "cell_type": "code",
   "execution_count": 19,
   "id": "74885f44",
   "metadata": {
    "execution": {
     "iopub.execute_input": "2023-10-28T23:26:05.780774Z",
     "iopub.status.busy": "2023-10-28T23:26:05.779760Z",
     "iopub.status.idle": "2023-10-28T23:26:05.792720Z",
     "shell.execute_reply": "2023-10-28T23:26:05.791910Z"
    },
    "papermill": {
     "duration": 0.024608,
     "end_time": "2023-10-28T23:26:05.794675",
     "exception": false,
     "start_time": "2023-10-28T23:26:05.770067",
     "status": "completed"
    },
    "tags": []
   },
   "outputs": [],
   "source": [
    "out_df = pd.DataFrame(np.c_[np.arange(1, len(test_ds)+1)[:,None], all_predictions], \n",
    "                      columns=['ImageId', 'Label'])"
   ]
  },
  {
   "cell_type": "code",
   "execution_count": 20,
   "id": "5d57de96",
   "metadata": {
    "execution": {
     "iopub.execute_input": "2023-10-28T23:26:05.813287Z",
     "iopub.status.busy": "2023-10-28T23:26:05.813015Z",
     "iopub.status.idle": "2023-10-28T23:26:05.828015Z",
     "shell.execute_reply": "2023-10-28T23:26:05.827060Z"
    },
    "papermill": {
     "duration": 0.026642,
     "end_time": "2023-10-28T23:26:05.830048",
     "exception": false,
     "start_time": "2023-10-28T23:26:05.803406",
     "status": "completed"
    },
    "tags": []
   },
   "outputs": [
    {
     "data": {
      "text/html": [
       "<div>\n",
       "<style scoped>\n",
       "    .dataframe tbody tr th:only-of-type {\n",
       "        vertical-align: middle;\n",
       "    }\n",
       "\n",
       "    .dataframe tbody tr th {\n",
       "        vertical-align: top;\n",
       "    }\n",
       "\n",
       "    .dataframe thead th {\n",
       "        text-align: right;\n",
       "    }\n",
       "</style>\n",
       "<table border=\"1\" class=\"dataframe\">\n",
       "  <thead>\n",
       "    <tr style=\"text-align: right;\">\n",
       "      <th></th>\n",
       "      <th>ImageId</th>\n",
       "      <th>Label</th>\n",
       "    </tr>\n",
       "  </thead>\n",
       "  <tbody>\n",
       "    <tr>\n",
       "      <th>0</th>\n",
       "      <td>1</td>\n",
       "      <td>2</td>\n",
       "    </tr>\n",
       "    <tr>\n",
       "      <th>1</th>\n",
       "      <td>2</td>\n",
       "      <td>0</td>\n",
       "    </tr>\n",
       "    <tr>\n",
       "      <th>2</th>\n",
       "      <td>3</td>\n",
       "      <td>9</td>\n",
       "    </tr>\n",
       "    <tr>\n",
       "      <th>3</th>\n",
       "      <td>4</td>\n",
       "      <td>9</td>\n",
       "    </tr>\n",
       "    <tr>\n",
       "      <th>4</th>\n",
       "      <td>5</td>\n",
       "      <td>3</td>\n",
       "    </tr>\n",
       "  </tbody>\n",
       "</table>\n",
       "</div>"
      ],
      "text/plain": [
       "   ImageId  Label\n",
       "0        1      2\n",
       "1        2      0\n",
       "2        3      9\n",
       "3        4      9\n",
       "4        5      3"
      ]
     },
     "execution_count": 20,
     "metadata": {},
     "output_type": "execute_result"
    }
   ],
   "source": [
    "out_df.head()"
   ]
  },
  {
   "cell_type": "code",
   "execution_count": 21,
   "id": "4c21a129",
   "metadata": {
    "execution": {
     "iopub.execute_input": "2023-10-28T23:26:05.849404Z",
     "iopub.status.busy": "2023-10-28T23:26:05.849132Z",
     "iopub.status.idle": "2023-10-28T23:26:05.907337Z",
     "shell.execute_reply": "2023-10-28T23:26:05.906522Z"
    },
    "papermill": {
     "duration": 0.069554,
     "end_time": "2023-10-28T23:26:05.909183",
     "exception": false,
     "start_time": "2023-10-28T23:26:05.839629",
     "status": "completed"
    },
    "tags": []
   },
   "outputs": [],
   "source": [
    "out_df.to_csv('submission.csv', index=False)"
   ]
  }
 ],
 "metadata": {
  "kernelspec": {
   "display_name": "Python 3",
   "language": "python",
   "name": "python3"
  },
  "language_info": {
   "codemirror_mode": {
    "name": "ipython",
    "version": 3
   },
   "file_extension": ".py",
   "mimetype": "text/x-python",
   "name": "python",
   "nbconvert_exporter": "python",
   "pygments_lexer": "ipython3",
   "version": "3.10.12"
  },
  "papermill": {
   "default_parameters": {},
   "duration": 449.128026,
   "end_time": "2023-10-28T23:26:08.637365",
   "environment_variables": {},
   "exception": null,
   "input_path": "__notebook__.ipynb",
   "output_path": "__notebook__.ipynb",
   "parameters": {},
   "start_time": "2023-10-28T23:18:39.509339",
   "version": "2.4.0"
  }
 },
 "nbformat": 4,
 "nbformat_minor": 5
}
